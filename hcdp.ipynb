{
 "cells": [
  {
   "cell_type": "markdown",
   "metadata": {},
   "source": [
    "### Set TACC account credentials for authenticating to the Tapis TACC Tenant "
   ]
  },
  {
   "cell_type": "code",
   "execution_count": null,
   "metadata": {},
   "outputs": [],
   "source": [
    "import getpass\n",
    "permitted_username = 'wongy'\n",
    "permitted_user_password = 'Jw@101270'\n",
    "# permitted_username = getpass.getpass(prompt='Username: ', stream=None)\n",
    "# permitted_user_password = getpass.getpass(prompt='Password: ', stream=None)\n",
    "\n",
    "#Set Tapis Tenant and Base URL\n",
    "tenant=\"tacc\"\n",
    "base_url = 'https://' + tenant + '.tapis.io'\n",
    "\n",
    "#Load Python SDK\n",
    "from tapipy.tapis import Tapis\n",
    "\n",
    "#Create python Tapis client for user\n",
    "permitted_client = Tapis(base_url= base_url, \n",
    "                         username=permitted_username,\n",
    "                         password=permitted_user_password, \n",
    "                         account_type='user', \n",
    "                         tenant_id=tenant\n",
    "                        ) \n",
    "\n",
    "\n",
    "#Generate an Access Token that will be used for all API calls\n",
    "permitted_client.get_tokens()\n",
    "\n",
    "permitted_client.access_token"
   ]
  },
  {
   "cell_type": "markdown",
   "metadata": {},
   "source": [
    "### Listing All Existing Projects\n",
    "- To check if streams api is working correctly"
   ]
  },
  {
   "cell_type": "code",
   "execution_count": null,
   "metadata": {},
   "outputs": [],
   "source": [
    "permitted_client.streams.list_projects()"
   ]
  },
  {
   "cell_type": "markdown",
   "metadata": {},
   "source": [
    "### Setup Streams Variables that are used in the rest of the notebook"
   ]
  },
  {
   "cell_type": "code",
   "execution_count": null,
   "metadata": {},
   "outputs": [],
   "source": [
    "import datetime\n",
    "storage_id = \"dev.tapisv3.storage.system\"\n",
    "# project_id = 'Mesonet' + str(datetime.datetime.today().isoformat())\n",
    "project_id = 'Mesonet2022-11-22T09:02:01.224241'\n",
    "site_id = 'KulaAg'\n",
    "instrument_id = '0119_KulaAg'"
   ]
  },
  {
   "cell_type": "markdown",
   "metadata": {},
   "source": [
    "### Creating the MesoNet Project"
   ]
  },
  {
   "cell_type": "code",
   "execution_count": null,
   "metadata": {},
   "outputs": [],
   "source": [
    "result = permitted_client.streams.create_project(project_name=project_id,\n",
    "                                                        description='TEST project for MesoNet',\n",
    "                                                        owner='testuser2', pi='wongy', \n",
    "                                                        funding_resource='test', \n",
    "                                                        project_url='https://www.hawaii.edu/climate-data-portal/',\n",
    "                                                        active=True,_tapis_debug=True)\n",
    "\n",
    "result\n"
   ]
  },
  {
   "cell_type": "markdown",
   "metadata": {},
   "source": [
    "### Creating the Sites in Bulk"
   ]
  },
  {
   "cell_type": "code",
   "execution_count": null,
   "metadata": {},
   "outputs": [],
   "source": [
    "## Create a Streams Site\n",
    "result, debug = permitted_client.streams.create_site(project_id=project_id,\n",
    "                                                     request_body=[{\n",
    "                                                     \"site_name\":site_id, \n",
    "                                                     \"site_id\":site_id,\n",
    "                                                     \"latitude\":50, \n",
    "                                                     \"longitude\":10, \n",
    "                                                     \"elevation\":2,\n",
    "                                                     \"description\":'test_site'\n",
    "                                                    }], _tapis_debug=True)\n",
    "print(result)"
   ]
  },
  {
   "cell_type": "code",
   "execution_count": null,
   "metadata": {},
   "outputs": [],
   "source": [
    "result = permitted_client.streams.list_sites(project_id=project_id)\n",
    "\n",
    "result"
   ]
  },
  {
   "cell_type": "markdown",
   "metadata": {},
   "source": [
    "### Create Instruments"
   ]
  },
  {
   "cell_type": "code",
   "execution_count": null,
   "metadata": {},
   "outputs": [],
   "source": [
    "result, debug = permitted_client.streams.create_instrument(project_id=project_id,\n",
    "                                                           site_id=site_id,\n",
    "                                                           request_body=[{\n",
    "                                                            \"inst_name\": instrument_id,\n",
    "                                                            \"inst_id\": instrument_id,\n",
    "                                                            \"inst_description\": \"test instrument for MesoNet Project\"\n",
    "                                                           }],\n",
    "                                                           _tapis_debug=True)\n",
    "\n",
    "result"
   ]
  },
  {
   "cell_type": "code",
   "execution_count": 12,
   "metadata": {},
   "outputs": [
    {
     "data": {
      "text/plain": [
       "[\n",
       " chords_id: 92\n",
       " created_at: 2022-11-22 22:43:59.546906\n",
       " inst_description: test instrument for MesoNet Project\n",
       " inst_id: 0119_KulaAg\n",
       " inst_name: 0119_KulaAg\n",
       " last_updated: 2022-11-22 22:43:59.546933]"
      ]
     },
     "execution_count": 12,
     "metadata": {},
     "output_type": "execute_result"
    }
   ],
   "source": [
    "result = permitted_client.streams.list_instruments(project_id=project_id, site_id=site_id)\n",
    "\n",
    "result"
   ]
  },
  {
   "cell_type": "markdown",
   "metadata": {},
   "source": [
    "### Parsing Variable Names from ikewai MesoNet file"
   ]
  },
  {
   "cell_type": "code",
   "execution_count": 15,
   "metadata": {},
   "outputs": [
    {
     "data": {
      "text/plain": [
       "['TIMESTAMP',\n",
       " 'RECORD',\n",
       " 'Tair_1_Min',\n",
       " 'Tair_1_Max',\n",
       " 'Tair_2_Min',\n",
       " 'Tair_2_Max',\n",
       " 'TC_air_Min',\n",
       " 'TC_air_Max',\n",
       " 'RH_1_Min',\n",
       " 'RH_1_Max',\n",
       " 'RH_2_Min',\n",
       " 'RH_2_Max',\n",
       " 'WindGust_Max',\n",
       " 'WindGust_TMx']"
      ]
     },
     "execution_count": 15,
     "metadata": {},
     "output_type": "execute_result"
    }
   ],
   "source": [
    "import urllib\n",
    "\n",
    "link = 'https://ikeauth.its.hawaii.edu/files/v2/download/public/system/ikewai-annotated-data/HCDP/raw/2022/10/25/0151_ParkHQ_MinMax.dat'\n",
    "\n",
    "data_file = urllib.request.urlopen(link).readlines()\n",
    "\n",
    "list_vars = data_file[1].decode(\"UTF-8\").strip().replace(\"\\\"\", \"\").split(\",\")\n",
    "\n",
    "list_vars"
   ]
  },
  {
   "cell_type": "markdown",
   "metadata": {},
   "source": [
    "### Creating the Variables in Tapis"
   ]
  },
  {
   "cell_type": "code",
   "execution_count": null,
   "metadata": {},
   "outputs": [],
   "source": [
    "result, debug = permitted_client.streams.create_variable(project_id=project_id, site_id=site_id, inst_id=instrument_id)"
   ]
  },
  {
   "cell_type": "markdown",
   "metadata": {},
   "source": [
    "### Parsing Measurements from MesoNet file"
   ]
  },
  {
   "cell_type": "code",
   "execution_count": 18,
   "metadata": {},
   "outputs": [
    {
     "data": {
      "text/plain": [
       "{'datetime': '\"2022-10-25 00:05:00\"',\n",
       " 'RECORD': '49658',\n",
       " 'Tair_1_Min': '11.92676',\n",
       " 'Tair_1_Max': '12.26837',\n",
       " 'Tair_2_Min': '11.94061',\n",
       " 'Tair_2_Max': '12.28222',\n",
       " 'TC_air_Min': '11.96775',\n",
       " 'TC_air_Max': '12.26832',\n",
       " 'RH_1_Min': '78.86103',\n",
       " 'RH_1_Max': '80.63091',\n",
       " 'RH_2_Min': '81.19104',\n",
       " 'RH_2_Max': '83.30367',\n",
       " 'WindGust_Max': '8.493333',\n",
       " 'WindGust_TMx': '\"2022-10-25 00:03:53\"'}"
      ]
     },
     "execution_count": 18,
     "metadata": {},
     "output_type": "execute_result"
    }
   ],
   "source": [
    "# for i in range(3, len(data_file)):\n",
    "#     data_file[i].decode(\"UTF-8\").strip().split(\",\")\n",
    "#     pass\n",
    "\n",
    "variables = []\n",
    "\n",
    "measurements = {}\n",
    "\n",
    "row = 4\n",
    "\n",
    "# for row in range(4, len(data_file)):\n",
    "\n",
    "for i in range(0, len(list_vars)):\n",
    "    if(list_vars[i] == 'TIMESTAMP'):\n",
    "        measurements[\"datetime\"] = data_file[row].decode(\"UTF-8\").strip().split(\",\")[i]\n",
    "    else:\n",
    "        measurements[list_vars[i]] = data_file[row].decode(\"UTF-8\").strip().split(\",\")[i]\n",
    "\n",
    "variables.append(measurements)\n",
    "\n",
    "measurements"
   ]
  },
  {
   "cell_type": "code",
   "execution_count": 19,
   "metadata": {},
   "outputs": [
    {
     "ename": "ServerDownError",
     "evalue": "message: Unrecognized exception type: <class 'KeyError'>. Exception: 'variables'",
     "output_type": "error",
     "traceback": [
      "\u001b[1;31m---------------------------------------------------------------------------\u001b[0m",
      "\u001b[1;31mServerDownError\u001b[0m                           Traceback (most recent call last)",
      "\u001b[1;32m~\\AppData\\Local\\Temp/ipykernel_17088/1317189323.py\u001b[0m in \u001b[0;36m<module>\u001b[1;34m\u001b[0m\n\u001b[1;32m----> 1\u001b[1;33m \u001b[0mpermitted_client\u001b[0m\u001b[1;33m.\u001b[0m\u001b[0mstreams\u001b[0m\u001b[1;33m.\u001b[0m\u001b[0mcreate_measurement\u001b[0m\u001b[1;33m(\u001b[0m\u001b[0minst_id\u001b[0m\u001b[1;33m=\u001b[0m\u001b[0minstrument_id\u001b[0m\u001b[1;33m,\u001b[0m \u001b[0mvars\u001b[0m\u001b[1;33m=\u001b[0m\u001b[0mvariables\u001b[0m\u001b[1;33m)\u001b[0m\u001b[1;33m\u001b[0m\u001b[1;33m\u001b[0m\u001b[0m\n\u001b[0m",
      "\u001b[1;32mc:\\Users\\jeff3\\anaconda3\\lib\\site-packages\\tapipy\\tapis.py\u001b[0m in \u001b[0;36m__call__\u001b[1;34m(self, **kwargs)\u001b[0m\n\u001b[0;32m   1359\u001b[0m             \u001b[1;32mraise\u001b[0m \u001b[0merrors\u001b[0m\u001b[1;33m.\u001b[0m\u001b[0mNotAuthorizedError\u001b[0m\u001b[1;33m(\u001b[0m\u001b[0mmsg\u001b[0m\u001b[1;33m=\u001b[0m\u001b[0merror_msg\u001b[0m\u001b[1;33m,\u001b[0m \u001b[0mversion\u001b[0m\u001b[1;33m=\u001b[0m\u001b[0mversion\u001b[0m\u001b[1;33m,\u001b[0m \u001b[0mrequest\u001b[0m\u001b[1;33m=\u001b[0m\u001b[0mr\u001b[0m\u001b[1;33m,\u001b[0m \u001b[0mresponse\u001b[0m\u001b[1;33m=\u001b[0m\u001b[0mresp\u001b[0m\u001b[1;33m)\u001b[0m\u001b[1;33m\u001b[0m\u001b[1;33m\u001b[0m\u001b[0m\n\u001b[0;32m   1360\u001b[0m         \u001b[1;32mif\u001b[0m \u001b[0mresp\u001b[0m\u001b[1;33m.\u001b[0m\u001b[0mstatus_code\u001b[0m \u001b[1;32min\u001b[0m \u001b[1;33m(\u001b[0m\u001b[1;36m500\u001b[0m\u001b[1;33m,\u001b[0m\u001b[1;33m)\u001b[0m\u001b[1;33m:\u001b[0m\u001b[1;33m\u001b[0m\u001b[1;33m\u001b[0m\u001b[0m\n\u001b[1;32m-> 1361\u001b[1;33m             \u001b[1;32mraise\u001b[0m \u001b[0merrors\u001b[0m\u001b[1;33m.\u001b[0m\u001b[0mServerDownError\u001b[0m\u001b[1;33m(\u001b[0m\u001b[0mmsg\u001b[0m\u001b[1;33m=\u001b[0m\u001b[0merror_msg\u001b[0m\u001b[1;33m,\u001b[0m \u001b[0mversion\u001b[0m\u001b[1;33m=\u001b[0m\u001b[0mversion\u001b[0m\u001b[1;33m,\u001b[0m \u001b[0mrequest\u001b[0m\u001b[1;33m=\u001b[0m\u001b[0mr\u001b[0m\u001b[1;33m,\u001b[0m \u001b[0mresponse\u001b[0m\u001b[1;33m=\u001b[0m\u001b[0mresp\u001b[0m\u001b[1;33m)\u001b[0m\u001b[1;33m\u001b[0m\u001b[1;33m\u001b[0m\u001b[0m\n\u001b[0m\u001b[0;32m   1362\u001b[0m         \u001b[1;31m# catch-all for any other non-20x response:\u001b[0m\u001b[1;33m\u001b[0m\u001b[1;33m\u001b[0m\u001b[0m\n\u001b[0;32m   1363\u001b[0m         \u001b[1;32mif\u001b[0m \u001b[0mresp\u001b[0m\u001b[1;33m.\u001b[0m\u001b[0mstatus_code\u001b[0m \u001b[1;33m>=\u001b[0m \u001b[1;36m300\u001b[0m\u001b[1;33m:\u001b[0m\u001b[1;33m\u001b[0m\u001b[1;33m\u001b[0m\u001b[0m\n",
      "\u001b[1;31mServerDownError\u001b[0m: message: Unrecognized exception type: <class 'KeyError'>. Exception: 'variables'"
     ]
    }
   ],
   "source": [
    "permitted_client.streams.create_measurement(inst_id=instrument_id, vars=variables)"
   ]
  },
  {
   "cell_type": "code",
   "execution_count": 22,
   "metadata": {},
   "outputs": [
    {
     "data": {
      "text/plain": [
       "[]"
      ]
     },
     "execution_count": 22,
     "metadata": {},
     "output_type": "execute_result"
    }
   ],
   "source": [
    "permitted_client.streams.list_variables(project_id=project_id, site_id=site_id, inst_id=instrument_id)"
   ]
  },
  {
   "cell_type": "markdown",
   "metadata": {},
   "source": [
    "### A way to Delete all the projects"
   ]
  },
  {
   "cell_type": "code",
   "execution_count": null,
   "metadata": {},
   "outputs": [],
   "source": [
    "# list_proj = permitted_client.streams.list_projects()\n",
    "\n",
    "# for project in list_proj:\n",
    "#     delete_id = getattr(project, 'project_id')\n",
    "#     permitted_client.streams.delete_project(project_id=delete_id)"
   ]
  }
 ],
 "metadata": {
  "kernelspec": {
   "display_name": "Python 3.9.7 ('base')",
   "language": "python",
   "name": "python3"
  },
  "language_info": {
   "codemirror_mode": {
    "name": "ipython",
    "version": 3
   },
   "file_extension": ".py",
   "mimetype": "text/x-python",
   "name": "python",
   "nbconvert_exporter": "python",
   "pygments_lexer": "ipython3",
   "version": "3.9.7"
  },
  "orig_nbformat": 4,
  "vscode": {
   "interpreter": {
    "hash": "6375edf770d836a578662784fd45cbc88d30452a673298b323a11f2b04095182"
   }
  }
 },
 "nbformat": 4,
 "nbformat_minor": 2
}
