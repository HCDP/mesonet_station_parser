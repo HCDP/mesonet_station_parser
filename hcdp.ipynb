{
 "cells": [
  {
   "cell_type": "markdown",
   "metadata": {},
   "source": [
    "### Set TACC account credentials for authenticating to the Tapis TACC Tenant "
   ]
  },
  {
   "cell_type": "code",
   "execution_count": null,
   "metadata": {},
   "outputs": [],
   "source": [
    "import getpass\n",
    "import json\n",
    "config_file = open(\"./config.json\")\n",
    "config_json = json.load(config_file)\n",
    "\n",
    "permitted_username = config_json[\"username\"]\n",
    "permitted_user_password = config_json[\"password\"]\n",
    "\n",
    "#Set Tapis Tenant and Base URL\n",
    "tenant=\"dev\"\n",
    "base_url = 'https://' + tenant + '.develop.tapis.io'\n",
    "\n",
    "#Load Python SDK\n",
    "from tapipy.tapis import Tapis\n",
    "\n",
    "#Create python Tapis client for user\n",
    "permitted_client = Tapis(base_url= base_url, \n",
    "                         username=permitted_username,\n",
    "                         password=permitted_user_password, \n",
    "                         account_type='user', \n",
    "                         tenant_id=tenant\n",
    "                        ) \n",
    "\n",
    "\n",
    "#Generate an Access Token that will be used for all API calls\n",
    "permitted_client.get_tokens()\n",
    "\n",
    "permitted_client.access_token"
   ]
  },
  {
   "cell_type": "markdown",
   "metadata": {},
   "source": [
    "### Setting the project id that contains the station data"
   ]
  },
  {
   "cell_type": "code",
   "execution_count": null,
   "metadata": {},
   "outputs": [],
   "source": [
    "project_id = \"Mesonet_legacy_test3L\""
   ]
  },
  {
   "cell_type": "markdown",
   "metadata": {},
   "source": [
    "### Listing all available stations\n",
    "In Tapis Streams API, stations are stored as sites."
   ]
  },
  {
   "cell_type": "code",
   "execution_count": null,
   "metadata": {},
   "outputs": [],
   "source": [
    "permitted_client.streams.list_sites(project_id=project_id)"
   ]
  },
  {
   "cell_type": "code",
   "execution_count": null,
   "metadata": {},
   "outputs": [],
   "source": [
    "station_id=\"0115_3L\" # future it can stay as \"0115\"\n",
    "\n",
    "# List of data you can pull from the stations\n",
    "metdata_for_0115=\"0115_3L_MetData\" # future it would just be \"0115_MetData\", currently its station_id + data_type\n",
    "sysinfo_for_0115=\"0115_3L_SysInfo\"\n",
    "rfmin_for_0115=\"0115_3L_RFMin\"\n",
    "minmax_for_0115=\"0115_3L_MinMax\""
   ]
  },
  {
   "cell_type": "markdown",
   "metadata": {},
   "source": [
    "### List measurements for station 0115\n",
    "\n",
    "site_id = station_id Ex. \"0115\"\n",
    "inst_id = data_type Ex. \"0115_Metdata\", \"0115_RFMin\"\n",
    "\n",
    "In the example below, we are listing all the metdata measurements from the station 0115"
   ]
  },
  {
   "cell_type": "code",
   "execution_count": null,
   "metadata": {},
   "outputs": [],
   "source": [
    "permitted_client.streams.list_measurements(inst_id=minmax_for_0115, project_id=project_id, site_id=station_id, limit=\"10\", var_ids=\"RH_1_Min\", start_date=\"2023-07-24T10:05:00Z\", end_date=\"2023-07-24T10:50:00Z\")"
   ]
  },
  {
   "cell_type": "markdown",
   "metadata": {},
   "source": [
    "### Listing all the measurements for all stations"
   ]
  },
  {
   "cell_type": "code",
   "execution_count": null,
   "metadata": {},
   "outputs": [],
   "source": [
    "datatype = \"SysInfo\"\n",
    "start_date = \"2023-07-24T10:05:00Z\"\n",
    "end_date = \"2023-07-24T10:50:00Z\"\n",
    "station_list = permitted_client.streams.list_sites(project_id=project_id)\n",
    "for i in range(len(station_list) - 4, len(station_list)):\n",
    "    print(f\"Listing measurements for {station_list[i].site_id}\")\n",
    "    station_id = station_list[i].site_id\n",
    "    inst_id = station_id + \"_\" + datatype\n",
    "    print(permitted_client.streams.list_measurements(inst_id=inst_id, project_id=project_id, site_id=station_id, limit=\"10\", start_date=start_date, end_date=end_date))\n"
   ]
  },
  {
   "cell_type": "markdown",
   "metadata": {},
   "source": [
    "### Listing measurements with start and end date range"
   ]
  },
  {
   "cell_type": "markdown",
   "metadata": {},
   "source": [
    "### Creating an alert\n",
    "\n",
    "- relative humidity should not be less than 0 and above 100\n",
    "- certain station havent reported data for a while\n",
    "- battery below 0"
   ]
  },
  {
   "cell_type": "code",
   "execution_count": null,
   "metadata": {},
   "outputs": [],
   "source": []
  }
 ],
 "metadata": {
  "kernelspec": {
   "display_name": "base",
   "language": "python",
   "name": "python3"
  },
  "language_info": {
   "codemirror_mode": {
    "name": "ipython",
    "version": 3
   },
   "file_extension": ".py",
   "mimetype": "text/x-python",
   "name": "python",
   "nbconvert_exporter": "python",
   "pygments_lexer": "ipython3",
   "version": "3.8.16"
  },
  "orig_nbformat": 4,
  "vscode": {
   "interpreter": {
    "hash": "b8c8dc5016d000423d5863e1774dd1be67d31ec20fc498da0bd279db7e0bb4af"
   }
  }
 },
 "nbformat": 4,
 "nbformat_minor": 2
}
