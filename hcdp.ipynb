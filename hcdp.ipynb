{
 "cells": [
  {
   "cell_type": "markdown",
   "metadata": {},
   "source": [
    "### Set TACC account credentials for authenticating to the Tapis TACC Tenant "
   ]
  },
  {
   "cell_type": "code",
   "execution_count": null,
   "metadata": {},
   "outputs": [],
   "source": [
    "import getpass\n",
    "permitted_username = 'testuser2'\n",
    "permitted_user_password = 'testuser2'\n",
    "# permitted_username = getpass.getpass(prompt='Username: ', stream=None)\n",
    "# permitted_user_password = getpass.getpass(prompt='Password: ', stream=None)\n",
    "\n",
    "#Set Tapis Tenant and Base URL\n",
    "tenant=\"dev\"\n",
    "base_url = 'https://' + tenant + '.develop.tapis.io'\n",
    "\n",
    "#Load Python SDK\n",
    "from tapipy.tapis import Tapis\n",
    "\n",
    "#Create python Tapis client for user\n",
    "permitted_client = Tapis(base_url= base_url, \n",
    "                         username=permitted_username,\n",
    "                         password=permitted_user_password, \n",
    "                         account_type='user', \n",
    "                         tenant_id=tenant\n",
    "                        ) \n",
    "\n",
    "\n",
    "#Generate an Access Token that will be used for all API calls\n",
    "permitted_client.get_tokens()\n",
    "\n",
    "permitted_client.access_token"
   ]
  },
  {
   "cell_type": "markdown",
   "metadata": {},
   "source": [
    "### Listing All Existing Projects\n",
    "- To check if streams api is working correctly"
   ]
  },
  {
   "cell_type": "code",
   "execution_count": null,
   "metadata": {},
   "outputs": [],
   "source": [
    "permitted_client.streams.list_projects()"
   ]
  },
  {
   "cell_type": "markdown",
   "metadata": {},
   "source": [
    "### Setup Streams Variables that are used in the rest of the notebook"
   ]
  },
  {
   "cell_type": "code",
   "execution_count": null,
   "metadata": {},
   "outputs": [],
   "source": [
    "import datetime\n",
    "# storage_id = \"dev.tapisv3.storage.system\"\n",
    "project_id = 'Mesonet' + str(datetime.datetime.today().isoformat())\n",
    "site_id = 'ParkHQ'\n",
    "instrument_id = '0151_ParkHQ'"
   ]
  },
  {
   "cell_type": "markdown",
   "metadata": {},
   "source": [
    "### Creating the MesoNet Project"
   ]
  },
  {
   "cell_type": "code",
   "execution_count": null,
   "metadata": {},
   "outputs": [],
   "source": [
    "result = permitted_client.streams.create_project(project_name=project_id,\n",
    "                                                        description='TEST project for MesoNet',\n",
    "                                                        owner='testuser2', pi='wongy', \n",
    "                                                        funding_resource='test', \n",
    "                                                        project_url='https://www.hawaii.edu/climate-data-portal/',\n",
    "                                                        active=True,_tapis_debug=True)\n",
    "\n",
    "result\n"
   ]
  },
  {
   "cell_type": "code",
   "execution_count": null,
   "metadata": {},
   "outputs": [],
   "source": [
    "# list_proj = permitted_client.streams.list_projects()\n",
    "\n",
    "# for project in list_proj:\n",
    "#     delete_id = getattr(project, 'project_id')\n",
    "#     permitted_client.streams.delete_project(project_id=delete_id)"
   ]
  },
  {
   "attachments": {},
   "cell_type": "markdown",
   "metadata": {},
   "source": [
    "### Creating the Site"
   ]
  },
  {
   "cell_type": "code",
   "execution_count": null,
   "metadata": {},
   "outputs": [],
   "source": [
    "## Create a Streams Site\n",
    "result, debug = permitted_client.streams.create_site(project_id=project_id,\n",
    "                                                     request_body=[{\n",
    "                                                     \"site_name\":site_id, \n",
    "                                                     \"site_id\":site_id,\n",
    "                                                     \"latitude\":50, \n",
    "                                                     \"longitude\":10, \n",
    "                                                     \"elevation\":2,\n",
    "                                                     \"description\":'test_site'\n",
    "                                                    }], _tapis_debug=True)\n",
    "print(result)"
   ]
  },
  {
   "attachments": {},
   "cell_type": "markdown",
   "metadata": {},
   "source": [
    "### Creating the Instrument"
   ]
  },
  {
   "cell_type": "code",
   "execution_count": null,
   "metadata": {},
   "outputs": [],
   "source": [
    "result, debug = permitted_client.streams.create_instrument(project_id=project_id,\n",
    "                                                           site_id=site_id,\n",
    "                                                           request_body=[{\n",
    "                                                            \"inst_name\":instrument_id,\n",
    "                                                            \"inst_description\": \"0151_ParkHQ\",\n",
    "                                                            \"inst_id\":instrument_id\n",
    "                                                           }], _tapis_debug=True)\n",
    "\n",
    "print(result)"
   ]
  },
  {
   "cell_type": "markdown",
   "metadata": {},
   "source": [
    "### Parsing Variable Names from ikewai MesoNet file"
   ]
  },
  {
   "cell_type": "code",
   "execution_count": null,
   "metadata": {},
   "outputs": [],
   "source": [
    "import urllib\n",
    "from datetime import date, timedelta, datetime\n",
    "from dateutil.rrule import rrule, DAILY\n",
    "\n",
    "# start_date = date(2023, 1, 1)\n",
    "# end_date = datetime.today().date()\n",
    "\n",
    "# for dt in rrule(DAILY, dtstart=start_date, until=end_date):\n",
    "#     curr_date = dt.date()\n",
    "\n",
    "#     files = [\n",
    "#         \"0115_Piiholo_MetData.dat\",\n",
    "#         \"0116_Keokea_MetData.dat\",\n",
    "#         \"0119_KulaAg_MetData.dat\",\n",
    "#         \"0143_Nakula_MetData.dat\",\n",
    "#         \"0151_ParkHQ_MetData.dat\",\n",
    "#         \"0152_NeneNest_MetData.dat\",\n",
    "#         \"0153_Summit_MetData.dat\",\n",
    "#         \"0281_IPIF_MetData.dat\",\n",
    "#         \"0282_Spencer_MetData.dat\",\n",
    "#         \"0283_Laupahoehoe_MetData.dat\",\n",
    "#         \"0286_Palamanui_MetData.dat\",\n",
    "#         \"0287_Mamalahoa_MetData.dat\",\n",
    "#         \"0501_Lyon_MetData_5min.dat\",\n",
    "#         \"0502_NuuanuRes1_MetData.dat\",\n",
    "#         \"0601_Waipa_MetData.dat\",\n",
    "#         \"0602_CommonGround_MetData.dat\"\n",
    "#     ]\n",
    "#     base_url = \"https://ikeauth.its.hawaii.edu/files/v2/download/public/system/ikewai-annotated-data/HCDP/raw/\"\n",
    "\n",
    "#     year = curr_date.year\n",
    "#     month = curr_date.month\n",
    "#     day = curr_date.day\n",
    "\n",
    "#     for file in files:\n",
    "#         link = f\"{base_url}{year}/{month}/{day}/{file}\"\n",
    "\n",
    "    \n",
    "link = 'https://ikeauth.its.hawaii.edu/files/v2/download/public/system/ikewai-annotated-data/HCDP/raw/2022/10/25/0151_ParkHQ_MetData.dat'\n",
    "\n",
    "data_file = urllib.request.urlopen(link).readlines()\n",
    "\n",
    "list_vars = data_file[1].decode(\"UTF-8\").strip().replace(\"\\\"\", \"\").split(\",\")\n",
    "\n",
    "list_units = data_file[2].decode(\"UTF-8\").strip().replace(\"\\\"\", \"\").split(\",\")\n",
    "\n",
    "print(list_vars, list_units)"
   ]
  },
  {
   "attachments": {},
   "cell_type": "markdown",
   "metadata": {},
   "source": [
    "### Creating the Variables"
   ]
  },
  {
   "cell_type": "code",
   "execution_count": null,
   "metadata": {},
   "outputs": [],
   "source": [
    "request_body = []\n",
    "for i in range(2, len(list_vars)):\n",
    "    request_body.append({\n",
    "        \"var_id\": list_vars[i],\n",
    "        \"var_name\": list_vars[i],\n",
    "        \"units\": list_units[i]\n",
    "    })\n",
    "\n",
    "#Create variables in bulk\n",
    "result, debug = permitted_client.streams.create_variable(project_id=project_id,\n",
    "                                                         site_id=site_id,\n",
    "                                                         inst_id=instrument_id,\n",
    "                                                         request_body=request_body,_tapis_debug=True)\n",
    "\n",
    "print(result)"
   ]
  },
  {
   "cell_type": "markdown",
   "metadata": {},
   "source": [
    "### Parsing Measurements from MesoNet file"
   ]
  },
  {
   "cell_type": "code",
   "execution_count": null,
   "metadata": {},
   "outputs": [],
   "source": [
    "\n",
    "variables = []\n",
    "\n",
    "for i in range(4, len(data_file)):\n",
    "    measurements = data_file[i].decode(\"UTF-8\").strip().replace(\"\\\"\", \"\").split(\",\")\n",
    "    measurement = {}\n",
    "    time = measurements[0].split(\" \")\n",
    "    if(int(time[1].split(\":\")[0]) > 23):\n",
    "        time_string = time[0] + \" 23:59:59\"\n",
    "        time_string = datetime.strptime(time_string, '%Y-%m-%d %H:%M:%S')\n",
    "        time_string += timedelta(seconds=1)\n",
    "    else:\n",
    "        time_string = datetime.strptime(measurements[0], '%Y-%m-%d %H:%M:%S')\n",
    "    measurement['datetime'] = time_string.isoformat()+\"-10:00\"\n",
    "    for j in range(2, len(measurements)):\n",
    "        measurement[list_vars[j]] = float(measurements[j])\n",
    "\n",
    "    variables.append(measurement)\n",
    "\n",
    "result = permitted_client.streams.create_measurement(inst_id=instrument_id,\n",
    "                                                            vars=variables)\n",
    "\n",
    "print(result)\n"
   ]
  },
  {
   "cell_type": "code",
   "execution_count": null,
   "metadata": {},
   "outputs": [],
   "source": [
    "print(data_file[5].decode(\"UTF-8\").strip().replace(\"\\\"\", \"\").split(\",\"))"
   ]
  }
 ],
 "metadata": {
  "kernelspec": {
   "display_name": "Python 3.7.15 ('tapis')",
   "language": "python",
   "name": "python3"
  },
  "language_info": {
   "codemirror_mode": {
    "name": "ipython",
    "version": 3
   },
   "file_extension": ".py",
   "mimetype": "text/x-python",
   "name": "python",
   "nbconvert_exporter": "python",
   "pygments_lexer": "ipython3",
   "version": "3.7.15"
  },
  "orig_nbformat": 4,
  "vscode": {
   "interpreter": {
    "hash": "8b16b863495390081f413d845108710c4f823b50d43fb7e339c52c0ce7f22dcf"
   }
  }
 },
 "nbformat": 4,
 "nbformat_minor": 2
}
